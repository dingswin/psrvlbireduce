{
 "cells": [
  {
   "cell_type": "markdown",
   "metadata": {},
   "source": [
    "## One way to fit $\\dot G/G$, $k_D$ and $\\alpha$ with $P_b$, $\\dot {P_b}^{ex}$, $m_c$ and $q$ \n",
    "Please refer to the VLBI paper on J1012+5307 for physical explanations.\n",
    "### Mathematical formalism\n",
    "One of the most simplified mathematical formalisms of the fitting is $Z=(\\dot G/G)(\\alpha X-1)+k_D \\alpha^2Y$, where X, Y and Z are combination of $P_b$, $\\dot {P_b}^{ex}$, $m_c$ and $q$.\n",
    "If we perform fitting using N pulsars, the degree of freedom is N-3.\n",
    "### inputs: $P_b$, $\\dot {P_b}^{ex}$, $m_c$ and $q$"
   ]
  },
  {
   "cell_type": "code",
   "execution_count": 1,
   "metadata": {},
   "outputs": [
    {
     "name": "stdout",
     "output_type": "stream",
     "text": [
      " psrname         Pb       ...         q                err_q       \n",
      "---------- -------------- ... ----------------- -------------------\n",
      "J0437-4715      5.7410459 ... 6.428571428571428 0.37150261109583116\n",
      "J1012+5307 0.604672722901 ...             10.36                0.12\n",
      "J1713+0747    67.82512992 ... 4.650349650349651 0.40040855628803107\n",
      "J1738+0333  0.35479073987 ...               8.1                 0.2\n",
      "(array([1.53692308, 1.88198155, 1.44769183, 1.54021978]), array([0.09673587, 0.12080816, 0.13121629, 0.08226823]), array([0.00000001, 0.00000058, 0.        , 0.00000112]), array([0.        , 0.00000011, 0.        , 0.00000017]), array([-0., -0., -0., -0.]), array([0., 0., 0., 0.]))\n",
      "(-7.788905013404784e-12, -8.740232989514473e-07, 0.6965308066745947, 0.0018757827828406878, 16)\n",
      "(-7.788905013301602e-12, -8.74023298920129e-07, 0.6965308066767792, 0.0018757827828496927, 16)\n"
     ]
    },
    {
     "data": {
      "text/html": [
       "&lt;Table length=4&gt;\n",
       "<table id=\"table140179143189392\" class=\"table-striped table-bordered table-condensed\">\n",
       "<thead><tr><th>psrname</th><th>Pb</th><th>Pbdot_ex</th><th>err_Pbdot_ex</th><th>m_c</th><th>err_m_c</th><th>q</th><th>err_q</th></tr></thead>\n",
       "<thead><tr><th>str32</th><th>float64</th><th>float64</th><th>float64</th><th>float64</th><th>float64</th><th>float64</th><th>float64</th></tr></thead>\n",
       "<tr><td>J0437-4715</td><td>5.7410459</td><td>1.57e-14</td><td>4.09e-14</td><td>0.224</td><td>0.007</td><td>6.428571428571428</td><td>0.37150261109583116</td></tr>\n",
       "<tr><td>J1012+5307</td><td>0.604672722901</td><td>8.891873632417593e-15</td><td>5.4716345057422086e-15</td><td>0.174</td><td>0.011</td><td>10.36</td><td>0.12</td></tr>\n",
       "<tr><td>J1713+0747</td><td>67.82512992</td><td>3e-14</td><td>1.5e-13</td><td>0.286</td><td>0.012</td><td>4.650349650349651</td><td>0.40040855628803107</td></tr>\n",
       "<tr><td>J1738+0333</td><td>0.35479073987</td><td>2e-15</td><td>3.7e-15</td><td>0.18024691358024691</td><td>0.00864158552402111</td><td>8.1</td><td>0.2</td></tr>\n",
       "</table>"
      ],
      "text/plain": [
       "<Table length=4>\n",
       " psrname         Pb       ...         q                err_q       \n",
       "  str32       float64     ...      float64            float64      \n",
       "---------- -------------- ... ----------------- -------------------\n",
       "J0437-4715      5.7410459 ... 6.428571428571428 0.37150261109583116\n",
       "J1012+5307 0.604672722901 ...             10.36                0.12\n",
       "J1713+0747    67.82512992 ... 4.650349650349651 0.40040855628803107\n",
       "J1738+0333  0.35479073987 ...               8.1                 0.2"
      ]
     },
     "execution_count": 1,
     "metadata": {},
     "output_type": "execute_result"
    }
   ],
   "source": [
    "import mspsrpifun\n",
    "a=mspsrpifun.pulsars_based_GdotG_kD()\n",
    "a.combine_pulsardats_to_table()"
   ]
  },
  {
   "cell_type": "markdown",
   "metadata": {},
   "source": [
    "In some cases, m_c or q is not provided directly, so a part of the function here is to calculate q or m_c and propagate the errors.\n",
    "### Parse $P_b$, $\\dot {P_b}^{ex}$, $m_c$ and $q$ to X, Y and Z"
   ]
  },
  {
   "cell_type": "code",
   "execution_count": 12,
   "metadata": {},
   "outputs": [
    {
     "data": {
      "text/plain": [
       "(array([1.53692308, 1.88198155, 1.44769183, 1.54021978]),\n",
       " array([0.09673587, 0.12080816, 0.13121629, 0.08226823]),\n",
       " array([0.00000001, 0.00000058, 0.        , 0.00000112]),\n",
       " array([0.        , 0.00000011, 0.        , 0.00000017]),\n",
       " array([-0., -0., -0., -0.]),\n",
       " array([0., 0., 0., 0.]))"
      ]
     },
     "execution_count": 12,
     "metadata": {},
     "output_type": "execute_result"
    }
   ],
   "source": [
    "a.prepare_pulsardats_for_abcfitting()"
   ]
  },
  {
   "cell_type": "markdown",
   "metadata": {},
   "source": [
    "where in the order the arrays represent X, errX, Y, errY, Z, errZ. Some of numbers look 0, I can assure you it's not exactly zero. For example,"
   ]
  },
  {
   "cell_type": "code",
   "execution_count": 3,
   "metadata": {},
   "outputs": [
    {
     "data": {
      "text/plain": [
       "array([0.01301018, 0.01652524, 0.00403879, 0.01904497])"
      ]
     },
     "execution_count": 3,
     "metadata": {},
     "output_type": "execute_result"
    }
   ],
   "source": [
    "a.prepare_pulsardats_for_abcfitting()[5]*1e10"
   ]
  },
  {
   "cell_type": "markdown",
   "metadata": {},
   "source": [
    "### Least chi-square fitting\n",
    "Then I use a semi-analytical least chi-square fitting \"engine\" calculated by myself from scratch to derive best-fit $\\dot G/G$, $k_D$ and $\\alpha$. Here are the best-fit values:"
   ]
  },
  {
   "cell_type": "code",
   "execution_count": 4,
   "metadata": {},
   "outputs": [
    {
     "name": "stdout",
     "output_type": "stream",
     "text": [
      "(-7.788905013404784e-12, -8.740232989514473e-07, 0.6965308066745947, 0.0018757827828406878, 16)\n"
     ]
    }
   ],
   "source": [
    "import howfun\n",
    "fits=howfun.lsqfit()\n",
    "[Xs, errXs, Ys, errYs, Zs, errZs] = a.prepare_pulsardats_for_abcfitting()\n",
    "print fits.abcfit3D(Xs, errXs, Ys, errYs, Zs, errZs)"
   ]
  },
  {
   "cell_type": "markdown",
   "metadata": {},
   "source": [
    "where the outputs in the order are $\\dot G/G$ (in 1/yr), $k_D$, $\\alpha$, reduced chi-square and iterative runs (to reach cease condition of convergence). The uncertainties for $\\dot G/G$, $k_D$ and $\\alpha$ are subsequently estimated using monte-carlo simulations. "
   ]
  },
  {
   "cell_type": "code",
   "execution_count": 14,
   "metadata": {},
   "outputs": [
    {
     "name": "stdout",
     "output_type": "stream",
     "text": [
      "10100\n"
     ]
    },
    {
     "data": {
      "text/plain": [
       "array([[-0.        , -0.00000743,  0.66803577],\n",
       "       [ 0.        , -0.00000334,  0.66111922],\n",
       "       [-0.        ,  0.00000159,  0.72099214],\n",
       "       ...,\n",
       "       [-0.        ,  0.00000233,  0.69639557],\n",
       "       [-0.        ,  0.00000015,  0.60106203],\n",
       "       [-0.        , -0.00000662,  0.62903833]])"
      ]
     },
     "execution_count": 14,
     "metadata": {},
     "output_type": "execute_result"
    }
   ],
   "source": [
    "a.monte_carlo_sampling_abc(100)"
   ]
  },
  {
   "cell_type": "markdown",
   "metadata": {},
   "source": [
    "After a while, the new 100 fits are added to the 10000 fits which are already there. Then they are translated to marginalized $\\dot G/G$ (in 1/yr), $k_D$, $\\alpha$ uncertainties."
   ]
  },
  {
   "cell_type": "code",
   "execution_count": 15,
   "metadata": {},
   "outputs": [
    {
     "name": "stdout",
     "output_type": "stream",
     "text": [
      "(array([1.53692308, 1.88198155, 1.44769183, 1.54021978]), array([0.09673587, 0.12080816, 0.13121629, 0.08226823]), array([0.00000001, 0.00000058, 0.        , 0.00000112]), array([0.        , 0.00000011, 0.        , 0.00000017]), array([-0., -0., -0., -0.]), array([0., 0., 0., 0.]))\n",
      "(-7.788905013404784e-12, -8.740232989514473e-07, 0.6965308066745947, 0.0018757827828406878, 16)\n",
      "confidencelevel = 0.954500\n",
      "confidencelevel = 0.682689\n"
     ]
    }
   ],
   "source": [
    "a.output_GdotG_kD_Sp_and_uncertainties()"
   ]
  },
  {
   "cell_type": "markdown",
   "metadata": {},
   "source": [
    "The results are output to a file at another directory. But we can get the symmetric forms as follows:"
   ]
  },
  {
   "cell_type": "code",
   "execution_count": 17,
   "metadata": {},
   "outputs": [
    {
     "name": "stdout",
     "output_type": "stream",
     "text": [
      "-6.803751631285009e-12 9.169329583100317e-12\n",
      "-6.097873093139016e-07 4.715070210476537e-06\n",
      "0.6877752033580458 0.0783354796636731\n"
     ]
    }
   ],
   "source": [
    "print a.value_gdotg, a.err_gdotg\n",
    "print a.value_kd, a.err_kd\n",
    "print a.value_sp, a.err_sp"
   ]
  },
  {
   "cell_type": "code",
   "execution_count": 18,
   "metadata": {},
   "outputs": [
    {
     "name": "stdout",
     "output_type": "stream",
     "text": [
      "(array([1.53692308, 1.88198155, 1.44769183, 1.54021978]), array([0.09673587, 0.12080816, 0.13121629, 0.08226823]), array([0.00000001, 0.00000058, 0.        , 0.00000112]), array([0.        , 0.00000011, 0.        , 0.00000017]), array([-0., -0., -0., -0.]), array([0., 0., 0., 0.]))\n",
      "(-7.788905013404784e-12, -8.740232989514473e-07, 0.6965308066745947, 0.0018757827828406878, 16)\n",
      "confidencelevel = 0.954500\n",
      "confidencelevel = 0.682689\n",
      "plots done.\n"
     ]
    },
    {
     "data": {
      "text/plain": [
       "<matplotlib.figure.Figure at 0x7f7dce031490>"
      ]
     },
     "metadata": {},
     "output_type": "display_data"
    }
   ],
   "source": [
    "a.plot_pdfs_for_Gdot_kD_Sp()"
   ]
  },
  {
   "cell_type": "markdown",
   "metadata": {},
   "source": [
    "The asymmetric form presented in the paper draft in reference to the best-fit value is no much different.\n",
    "## Least square $\\dot G/G$-$k_D$ fitting\n",
    "Likewise, we can also get the simpler Least square $\\dot G/G$-$k_D$ fitting:"
   ]
  },
  {
   "cell_type": "code",
   "execution_count": 6,
   "metadata": {},
   "outputs": [
    {
     "name": "stdout",
     "output_type": "stream",
     "text": [
      " psrname         Pb       ...         q                err_q       \n",
      "---------- -------------- ... ----------------- -------------------\n",
      "J0437-4715      5.7410459 ... 6.428571428571428 0.37150261109583116\n",
      "J1012+5307 0.604672722901 ...             10.36                0.12\n",
      "J1713+0747    67.82512992 ... 4.650349650349651 0.40040855628803107\n",
      "J1738+0333  0.35479073987 ...               8.1                 0.2\n",
      "(array([1.53692308, 1.88198155, 1.44769183, 1.54021978]), array([0.09673587, 0.12080816, 0.13121629, 0.08226823]), array([0.00000001, 0.00000058, 0.        , 0.00000112]), array([0.        , 0.00000011, 0.        , 0.00000017]), array([-0., -0., -0., -0.]), array([0., 0., 0., 0.]))\n",
      "(-7.788905013404784e-12, -8.740232989514473e-07, 0.6965308066745947, 0.0018757827828406878, 16)\n",
      "(-7.788905013301602e-12, -8.74023298920129e-07, 0.6965308066767792, 0.0018757827828496927, 16)\n"
     ]
    }
   ],
   "source": [
    "b=mspsrpifun.pulsars_based_GdotG_kD()"
   ]
  },
  {
   "cell_type": "code",
   "execution_count": 7,
   "metadata": {},
   "outputs": [
    {
     "name": "stdout",
     "output_type": "stream",
     "text": [
      "[-0.00996352 -0.00046331 -0.21713847 -0.00009219]\n",
      "[1.68842464e+10 1.40054039e+08 2.29899771e+12 7.57600033e+07]\n",
      "[0.0260018  0.00029854 1.08679874 0.00017114]\n",
      "10100\n"
     ]
    },
    {
     "data": {
      "text/plain": [
       "array([[-0.        ,  0.00006033],\n",
       "       [-0.        , -0.00028356],\n",
       "       [ 0.        , -0.00022793],\n",
       "       ...,\n",
       "       [-0.        , -0.00005993],\n",
       "       [ 0.        , -0.00043285],\n",
       "       [ 0.        , -0.00041465]])"
      ]
     },
     "execution_count": 7,
     "metadata": {},
     "output_type": "execute_result"
    }
   ],
   "source": [
    "b.monte_carlo_sampling(10000)"
   ]
  },
  {
   "cell_type": "code",
   "execution_count": 9,
   "metadata": {},
   "outputs": [
    {
     "name": "stdout",
     "output_type": "stream",
     "text": [
      "[-0.00996352 -0.00046331 -0.21713847 -0.00009219]\n",
      "[1.68842464e+10 1.40054039e+08 2.29899771e+12 7.57600033e+07]\n",
      "[0.0260018  0.00029854 1.08679874 0.00017114]\n",
      "[-0.00996352 -0.00046331 -0.21713847 -0.00009219]\n",
      "[1.68842464e+10 1.40054039e+08 2.29899771e+12 7.57600033e+07]\n",
      "[0.0260018  0.00029854 1.08679874 0.00017114]\n",
      "(array([1.68842464e+10, 1.40054039e+08, 2.29899771e+12, 7.57600033e+07]), array([4.73881299e+09, 5.92686011e+06, 9.49792415e+11, 1.05763414e+07]), array([-0.00996352, -0.00046331, -0.21713847, -0.00009219]), array([0.0260018 , 0.00029854, 1.08679874, 0.00017114]))\n",
      "(-1.7866881410480115e-13, -0.00016782700303921225, 0.5955515096210591, 3)\n",
      "confidencelevel = 0.954500\n",
      "confidencelevel = 0.682689\n"
     ]
    }
   ],
   "source": [
    "b.output_GdotG_kD_and_uncertainties()"
   ]
  },
  {
   "cell_type": "code",
   "execution_count": 11,
   "metadata": {},
   "outputs": [
    {
     "name": "stdout",
     "output_type": "stream",
     "text": [
      "[-0.00996352 -0.00046331 -0.21713847 -0.00009219]\n",
      "[1.68842464e+10 1.40054039e+08 2.29899771e+12 7.57600033e+07]\n",
      "[0.0260018  0.00029854 1.08679874 0.00017114]\n",
      "[-0.00996352 -0.00046331 -0.21713847 -0.00009219]\n",
      "[1.68842464e+10 1.40054039e+08 2.29899771e+12 7.57600033e+07]\n",
      "[0.0260018  0.00029854 1.08679874 0.00017114]\n",
      "(array([1.68842464e+10, 1.40054039e+08, 2.29899771e+12, 7.57600033e+07]), array([4.73881299e+09, 5.92686011e+06, 9.49792415e+11, 1.05763414e+07]), array([-0.00996352, -0.00046331, -0.21713847, -0.00009219]), array([0.0260018 , 0.00029854, 1.08679874, 0.00017114]))\n",
      "(-1.7866881410480115e-13, -0.00016782700303921225, 0.5955515096210591, 3)\n",
      "confidencelevel = 0.954500\n",
      "confidencelevel = 0.682689\n",
      "plots done.\n"
     ]
    },
    {
     "data": {
      "text/plain": [
       "<matplotlib.figure.Figure at 0x7f7dce0d5210>"
      ]
     },
     "metadata": {},
     "output_type": "display_data"
    }
   ],
   "source": [
    "b.plot_pdfs_for_Gdot_kD()"
   ]
  },
  {
   "cell_type": "markdown",
   "metadata": {},
   "source": [
    "Thanks for your time!\n",
    "Hao"
   ]
  }
 ],
 "metadata": {
  "kernelspec": {
   "display_name": "Python 2",
   "language": "python",
   "name": "python2"
  },
  "language_info": {
   "codemirror_mode": {
    "name": "ipython",
    "version": 2
   },
   "file_extension": ".py",
   "mimetype": "text/x-python",
   "name": "python",
   "nbconvert_exporter": "python",
   "pygments_lexer": "ipython2",
   "version": "2.7.14"
  }
 },
 "nbformat": 4,
 "nbformat_minor": 2
}
