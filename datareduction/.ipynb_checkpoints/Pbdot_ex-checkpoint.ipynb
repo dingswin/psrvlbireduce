{
 "cells": [
  {
   "cell_type": "markdown",
   "metadata": {},
   "source": [
    "## One way to get $\\dot {P_b}^{ex}$ with the observables"
   ]
  },
  {
   "cell_type": "code",
   "execution_count": 13,
   "metadata": {},
   "outputs": [
    {
     "name": "stdout",
     "output_type": "stream",
     "text": [
      "J0958+5039 IBC00462\n",
      "10:12:33.439907\n",
      "53:07:02.110961\n",
      "2.675322\n",
      "-25.381298\n",
      "1.169818\n",
      "('10:12:33.439907', '53:07:02.110961', '57700.000', 1.169818, 2.675322, -25.381298, 0.020674, 0.02569, 0.06337, 160.347212, 50.857861)\n",
      "J0958+5039 IBC00462\n",
      "10:12:33.439907\n",
      "53:07:02.110961\n",
      "2.675322\n",
      "-25.381298\n",
      "1.169818\n",
      "\n",
      "2019\n",
      "J0958+5039 IBC00462\n",
      "J0958+5039 IBC00462\n",
      "(55000, 9.0172, 0.604672722901, array([ 10.2092882 ,  53.11730555,   1.18778187,   2.58944219,\n",
      "       -25.50520136]), array([0.        , 0.00000002, 0.05893626, 0.00686565, 0.00870053]))\n"
     ]
    }
   ],
   "source": [
    "import mspsrpifun\n",
    "a=mspsrpifun.estimate_uncertainty('J1012+5307',2019)"
   ]
  },
  {
   "cell_type": "markdown",
   "metadata": {},
   "source": [
    "where the input \"2019\" means adopting the most recent weighted distance, proper motion and Pb from the 2016 timing paper. As follows is the calculation of the terms of the orbital period decay and the corresponding propagated uncertainties.\n",
    "### The Shklovskii term of orbital period decay"
   ]
  },
  {
   "cell_type": "code",
   "execution_count": 8,
   "metadata": {},
   "outputs": [
    {
     "name": "stdout",
     "output_type": "stream",
     "text": [
      "PbShk = 0.000000 +- 0.000000\n"
     ]
    },
    {
     "data": {
      "text/plain": [
       "(7.022612892225529e-14, 3.4848580144405954e-15)"
      ]
     },
     "execution_count": 8,
     "metadata": {},
     "output_type": "execute_result"
    }
   ],
   "source": [
    "a.uncertainty_PbShk()"
   ]
  },
  {
   "cell_type": "markdown",
   "metadata": {},
   "source": [
    "### Galactic term of orbital period decay"
   ]
  },
  {
   "cell_type": "code",
   "execution_count": 5,
   "metadata": {},
   "outputs": [
    {
     "name": "stdout",
     "output_type": "stream",
     "text": [
      "-6.679000023809069e-15 -1.4408783720112933e-16 -1.3826420567381346e-16\n",
      "1.1586302527894575e-15\n",
      "Pbdot_Gal1 = -6.679000 +- -0.138264 (fs/s)\n",
      "Pbdot_Gal2 = 1.158630 +- 0.057396 (fs/s)\n"
     ]
    },
    {
     "data": {
      "text/plain": [
       "(-5.520369771019612e-15, 1.497039326603758e-16)"
      ]
     },
     "execution_count": 5,
     "metadata": {},
     "output_type": "execute_result"
    }
   ],
   "source": [
    "a.uncertainty_PbGal()"
   ]
  },
  {
   "cell_type": "markdown",
   "metadata": {},
   "source": [
    "### GW (GR) related orbital period decay"
   ]
  },
  {
   "cell_type": "code",
   "execution_count": 6,
   "metadata": {},
   "outputs": [
    {
     "data": {
      "text/plain": [
       "(-1.2597632783653268e-14, 1.3312165549466203e-15)"
      ]
     },
     "execution_count": 6,
     "metadata": {},
     "output_type": "execute_result"
    }
   ],
   "source": [
    "a.PbGW()"
   ]
  },
  {
   "cell_type": "markdown",
   "metadata": {},
   "source": [
    "### Excess orbital period decay"
   ]
  },
  {
   "cell_type": "code",
   "execution_count": 7,
   "metadata": {},
   "outputs": [
    {
     "name": "stdout",
     "output_type": "stream",
     "text": [
      "-6.679000023809069e-15 -1.4408783720112933e-16 -1.3826420567381346e-16\n",
      "1.1586302527894575e-15\n",
      "Pbdot_Gal1 = -6.679000 +- -0.138264 (fs/s)\n",
      "Pbdot_Gal2 = 1.158630 +- 0.057396 (fs/s)\n",
      "PbShk = 0.000000 +- 0.000000\n"
     ]
    },
    {
     "data": {
      "text/plain": [
       "(8.891873632417593e-15, 5.4716345057422086e-15)"
      ]
     },
     "execution_count": 7,
     "metadata": {},
     "output_type": "execute_result"
    }
   ],
   "source": [
    "a.PbEx()"
   ]
  },
  {
   "cell_type": "markdown",
   "metadata": {},
   "source": [
    "## Next, calculate the $k_D$ using $\\dot G/G$ provided by LLR"
   ]
  },
  {
   "cell_type": "code",
   "execution_count": 20,
   "metadata": {},
   "outputs": [
    {
     "name": "stdout",
     "output_type": "stream",
     "text": [
      "-1.90843690984e-16\n"
     ]
    },
    {
     "data": {
      "text/plain": [
       "(-1.908436909840747e-16, 2.0430311916136413e-16)"
      ]
     },
     "execution_count": 20,
     "metadata": {},
     "output_type": "execute_result"
    }
   ],
   "source": [
    "a.Gdot2PbGdot()"
   ]
  },
  {
   "cell_type": "code",
   "execution_count": 21,
   "metadata": {},
   "outputs": [
    {
     "name": "stdout",
     "output_type": "stream",
     "text": [
      "-6.679000023809069e-15 -1.4408783720112933e-16 -1.3826420567381346e-16\n",
      "1.1586302527894575e-15\n",
      "Pbdot_Gal1 = -6.679000 +- -0.138264 (fs/s)\n",
      "Pbdot_Gal2 = 1.158630 +- 0.057396 (fs/s)\n",
      "PbShk = 0.000000 +- 0.000000\n",
      "-1.90843690984e-16\n"
     ]
    },
    {
     "data": {
      "text/plain": [
       "(9.082717323401668e-15, 5.475447372491845e-15)"
      ]
     },
     "execution_count": 21,
     "metadata": {},
     "output_type": "execute_result"
    }
   ],
   "source": [
    "a.Gdot2PbDp()"
   ]
  },
  {
   "cell_type": "code",
   "execution_count": 10,
   "metadata": {},
   "outputs": [
    {
     "name": "stdout",
     "output_type": "stream",
     "text": [
      "-6.679000023809069e-15 -1.4408783720112933e-16 -1.3826420567381346e-16\n",
      "1.1586302527894575e-15\n",
      "Pbdot_Gal1 = -6.679000 +- -0.138264 (fs/s)\n",
      "Pbdot_Gal2 = 1.158630 +- 0.057396 (fs/s)\n",
      "PbShk = 0.000000 +- 0.000000\n",
      "-1.90843690984e-16\n",
      "4.92549094764e-06\n"
     ]
    },
    {
     "data": {
      "text/plain": [
       "(-0.0004732514755331782, 0.00029930042098023424)"
      ]
     },
     "execution_count": 10,
     "metadata": {},
     "output_type": "execute_result"
    }
   ],
   "source": [
    "a.Gdot2kD()"
   ]
  },
  {
   "cell_type": "markdown",
   "metadata": {},
   "source": [
    "where it is of $1\\,\\sigma$ confidence.\n",
    "In the same way, we get the terms of orbital period decay using VLBI astrometric results instead of weighted ones.\n",
    "### Calculate $\\dot P_b$ terms incorporating VLBI-only astrometric results"
   ]
  },
  {
   "cell_type": "code",
   "execution_count": 15,
   "metadata": {},
   "outputs": [
    {
     "name": "stdout",
     "output_type": "stream",
     "text": [
      "J0958+5039 IBC00462\n",
      "10:12:33.439907\n",
      "53:07:02.110961\n",
      "2.675322\n",
      "-25.381298\n",
      "1.169818\n",
      "('10:12:33.439907', '53:07:02.110961', '57700.000', 1.169818, 2.675322, -25.381298, 0.020674, 0.02569, 0.06337, 160.347212, 50.857861)\n",
      "J0958+5039 IBC00462\n",
      "10:12:33.439907\n",
      "53:07:02.110961\n",
      "2.675322\n",
      "-25.381298\n",
      "1.169818\n",
      "\n",
      "2017\n",
      "J0958+5039 IBC00462\n",
      "J0958+5039 IBC00462\n",
      "(55000, 9.0172, 0.604672722901, array([ 10.2092882 ,  53.11730555,   1.169818  ,   2.675322  ,\n",
      "       -25.381298  ]), array([0.        , 0.00000002, 0.070403  , 0.097301  , 0.11482   ]))\n"
     ]
    }
   ],
   "source": [
    "b=mspsrpifun.estimate_uncertainty('J1012+5307',2017)"
   ]
  },
  {
   "cell_type": "code",
   "execution_count": 16,
   "metadata": {},
   "outputs": [
    {
     "name": "stdout",
     "output_type": "stream",
     "text": [
      "-6.722375093344043e-15 -1.760024882282934e-16 -1.6753644651220948e-16\n",
      "1.1756434019245978e-15\n",
      "Pbdot_Gal1 = -6.722375 +- -0.167536 (fs/s)\n",
      "Pbdot_Gal2 = 1.175643 +- 0.069666 (fs/s)\n"
     ]
    },
    {
     "data": {
      "text/plain": [
       "(-5.546731691419445e-15, 1.8144360610381736e-16)"
      ]
     },
     "execution_count": 16,
     "metadata": {},
     "output_type": "execute_result"
    }
   ],
   "source": [
    "b.uncertainty_PbGal()"
   ]
  },
  {
   "cell_type": "code",
   "execution_count": 17,
   "metadata": {},
   "outputs": [
    {
     "name": "stdout",
     "output_type": "stream",
     "text": [
      "PbShk = 0.000000 +- 0.000000\n"
     ]
    },
    {
     "data": {
      "text/plain": [
       "(7.066952795277232e-14, 4.300219761618631e-15)"
      ]
     },
     "execution_count": 17,
     "metadata": {},
     "output_type": "execute_result"
    }
   ],
   "source": [
    "b.uncertainty_PbShk()"
   ]
  },
  {
   "cell_type": "code",
   "execution_count": 18,
   "metadata": {},
   "outputs": [
    {
     "data": {
      "text/plain": [
       "(-1.2597632783653268e-14, 1.3312165549466203e-15)"
      ]
     },
     "execution_count": 18,
     "metadata": {},
     "output_type": "execute_result"
    }
   ],
   "source": [
    "b.PbGW()"
   ]
  },
  {
   "cell_type": "code",
   "execution_count": 19,
   "metadata": {},
   "outputs": [
    {
     "name": "stdout",
     "output_type": "stream",
     "text": [
      "-6.722375093344043e-15 -1.760024882282934e-16 -1.6753644651220948e-16\n",
      "1.1756434019245978e-15\n",
      "Pbdot_Gal1 = -6.722375 +- -0.167536 (fs/s)\n",
      "Pbdot_Gal2 = 1.175643 +- 0.069666 (fs/s)\n",
      "PbShk = 0.000000 +- 0.000000\n"
     ]
    },
    {
     "data": {
      "text/plain": [
       "(8.474836522300389e-15, 6.024694954649181e-15)"
      ]
     },
     "execution_count": 19,
     "metadata": {},
     "output_type": "execute_result"
    }
   ],
   "source": [
    "b.PbEx()"
   ]
  },
  {
   "cell_type": "markdown",
   "metadata": {},
   "source": [
    "Thanks for your time,\n",
    "Hao"
   ]
  }
 ],
 "metadata": {
  "kernelspec": {
   "display_name": "Python 2",
   "language": "python",
   "name": "python2"
  },
  "language_info": {
   "codemirror_mode": {
    "name": "ipython",
    "version": 2
   },
   "file_extension": ".py",
   "mimetype": "text/x-python",
   "name": "python",
   "nbconvert_exporter": "python",
   "pygments_lexer": "ipython2",
   "version": "2.7.14"
  }
 },
 "nbformat": 4,
 "nbformat_minor": 2
}
