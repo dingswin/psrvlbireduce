{
 "cells": [
  {
   "cell_type": "code",
   "execution_count": 1,
   "metadata": {},
   "outputs": [],
   "source": [
    "%matplotlib inline"
   ]
  },
  {
   "cell_type": "markdown",
   "metadata": {},
   "source": [
    "\n",
    "# Truth Values\n",
    "\n",
    "\n",
    "Plot truth values on top of your contours.\n"
   ]
  },
  {
   "cell_type": "markdown",
   "metadata": {},
   "source": [
    "You can specify truth values using a list (in the same order as the\n",
    "declared parameters).\n",
    "\n"
   ]
  },
  {
   "cell_type": "code",
   "execution_count": 3,
   "metadata": {},
   "outputs": [
    {
     "ename": "ImportError",
     "evalue": "No module named chainconsumer",
     "output_type": "error",
     "traceback": [
      "\u001b[0;31m---------------------------------------------------------------------------\u001b[0m",
      "\u001b[0;31mImportError\u001b[0m                               Traceback (most recent call last)",
      "\u001b[0;32m<ipython-input-3-76fa0d1654cf>\u001b[0m in \u001b[0;36m<module>\u001b[0;34m()\u001b[0m\n\u001b[1;32m      1\u001b[0m \u001b[0;32mimport\u001b[0m \u001b[0mnumpy\u001b[0m \u001b[0;32mas\u001b[0m \u001b[0mnp\u001b[0m\u001b[0;34m\u001b[0m\u001b[0m\n\u001b[1;32m      2\u001b[0m \u001b[0;32mfrom\u001b[0m \u001b[0mnumpy\u001b[0m\u001b[0;34m.\u001b[0m\u001b[0mrandom\u001b[0m \u001b[0;32mimport\u001b[0m \u001b[0mnormal\u001b[0m\u001b[0;34m,\u001b[0m \u001b[0mmultivariate_normal\u001b[0m\u001b[0;34m\u001b[0m\u001b[0m\n\u001b[0;32m----> 3\u001b[0;31m \u001b[0;32mfrom\u001b[0m \u001b[0mchainconsumer\u001b[0m \u001b[0;32mimport\u001b[0m \u001b[0mChainConsumer\u001b[0m\u001b[0;34m\u001b[0m\u001b[0m\n\u001b[0m\u001b[1;32m      4\u001b[0m \u001b[0;34m\u001b[0m\u001b[0m\n\u001b[1;32m      5\u001b[0m \u001b[0mnp\u001b[0m\u001b[0;34m.\u001b[0m\u001b[0mrandom\u001b[0m\u001b[0;34m.\u001b[0m\u001b[0mseed\u001b[0m\u001b[0;34m(\u001b[0m\u001b[0;36m2\u001b[0m\u001b[0;34m)\u001b[0m\u001b[0;34m\u001b[0m\u001b[0m\n",
      "\u001b[0;31mImportError\u001b[0m: No module named chainconsumer"
     ]
    }
   ],
   "source": [
    "import numpy as np\n",
    "from numpy.random import normal, multivariate_normal\n",
    "from chainconsumer import ChainConsumer\n",
    "\n",
    "np.random.seed(2)\n",
    "cov = 0.2 * normal(size=(3, 3)) + np.identity(3)\n",
    "truth = normal(size=3)\n",
    "data = multivariate_normal(truth, np.dot(cov, cov.T), size=100000)\n",
    "\n",
    "c = ChainConsumer().add_chain(data, parameters=[\"$x$\", \"$y$\", r\"$\\beta$\"])\n",
    "fig = c.plotter.plot(truth=truth)\n",
    "fig.set_size_inches(3 + fig.get_size_inches())  # Resize fig for doco. You don't need this."
   ]
  },
  {
   "cell_type": "markdown",
   "metadata": {},
   "source": [
    "Or you can specify truth values using a dictionary. This allows you to specify\n",
    "truth values for only some parameters. You can also customise the look\n",
    "of your truth lines.\n",
    "\n"
   ]
  },
  {
   "cell_type": "code",
   "execution_count": null,
   "metadata": {},
   "outputs": [],
   "source": [
    "c.configure_truth(color='w', ls=\":\", alpha=0.8)\n",
    "fig2 = c.plotter.plot(truth={\"$x$\": truth[0], \"$y$\": truth[1]})\n",
    "fig2.set_size_inches(0 + fig2.get_size_inches())  # Resize fig for doco. You don't need this."
   ]
  }
 ],
 "metadata": {
  "kernelspec": {
   "display_name": "Python 2",
   "language": "python",
   "name": "python2"
  },
  "language_info": {
   "codemirror_mode": {
    "name": "ipython",
    "version": 2
   },
   "file_extension": ".py",
   "mimetype": "text/x-python",
   "name": "python",
   "nbconvert_exporter": "python",
   "pygments_lexer": "ipython2",
   "version": "2.7.14"
  }
 },
 "nbformat": 4,
 "nbformat_minor": 1
}
