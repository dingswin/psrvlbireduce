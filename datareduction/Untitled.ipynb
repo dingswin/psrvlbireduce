{
 "cells": [
  {
   "cell_type": "code",
   "execution_count": 4,
   "metadata": {},
   "outputs": [],
   "source": [
    "from time import sleep\n",
    "import numpy as np\n",
    "import threading"
   ]
  },
  {
   "cell_type": "code",
   "execution_count": 18,
   "metadata": {},
   "outputs": [],
   "source": [
    "def read_data():\n",
    "    print(\"Reading file\")\n",
    "    for progress in range(0,100,25):\n",
    "        sleep(0.5)\n",
    "    print(\"Reading completed.\")"
   ]
  },
  {
   "cell_type": "code",
   "execution_count": 19,
   "metadata": {},
   "outputs": [],
   "source": [
    "def read_data1():\n",
    "    print(\"Reading file\")\n",
    "    for progress in range(0,100,25):\n",
    "        sleep(0.5)\n",
    "    print(\"Reading completed.\")"
   ]
  },
  {
   "cell_type": "code",
   "execution_count": 20,
   "metadata": {},
   "outputs": [
    {
     "name": "stdout",
     "output_type": "stream",
     "text": [
      "Reading file\n",
      "Reading completed.\n",
      "CPU times: user 1.62 ms, sys: 2.77 ms, total: 4.39 ms\n",
      "Wall time: 2 s\n"
     ]
    }
   ],
   "source": [
    "%time read_data()"
   ]
  },
  {
   "cell_type": "code",
   "execution_count": 25,
   "metadata": {},
   "outputs": [
    {
     "name": "stdout",
     "output_type": "stream",
     "text": [
      "CPU times: user 1e+03 ns, sys: 1 µs, total: 2 µs\n",
      "Wall time: 5.96 µs\n",
      "Reading file\n",
      "Reading file\n",
      "Reading completed.\n",
      "Reading completed.\n"
     ]
    }
   ],
   "source": [
    "t1=threading.Thread(target=read_data)\n",
    "t2=threading.Thread(target=read_data1)\n",
    "%time\n",
    "t1.start()\n",
    "t2.start()\n",
    "t1.join()\n",
    "t2.join()"
   ]
  },
  {
   "cell_type": "code",
   "execution_count": null,
   "metadata": {},
   "outputs": [],
   "source": []
  }
 ],
 "metadata": {
  "kernelspec": {
   "display_name": "Python 2",
   "language": "python",
   "name": "python2"
  },
  "language_info": {
   "codemirror_mode": {
    "name": "ipython",
    "version": 2
   },
   "file_extension": ".py",
   "mimetype": "text/x-python",
   "name": "python",
   "nbconvert_exporter": "python",
   "pygments_lexer": "ipython2",
   "version": "2.7.15"
  }
 },
 "nbformat": 4,
 "nbformat_minor": 2
}
